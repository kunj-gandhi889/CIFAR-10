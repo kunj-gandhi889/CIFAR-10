{
 "cells": [
  {
   "cell_type": "markdown",
   "metadata": {},
   "source": [
    "## FEATURE EXTRACTION USING AUTOENCODER"
   ]
  },
  {
   "cell_type": "markdown",
   "metadata": {},
   "source": [
    "### UNSUPERVISED NEURAL NETWORK\n",
    "input -> encoder (It learns how to efficiently compress and encode the data) -> \"code\" ->  decoder (It learns how to reconstructs the data representation) -> output (which is almost same as input image / both have same size)"
   ]
  },
  {
   "cell_type": "markdown",
   "metadata": {},
   "source": [
    "to remove unnecessary details to reduce dimension space & to learn relevant features of image"
   ]
  },
  {
   "cell_type": "markdown",
   "metadata": {},
   "source": [
    "![alt text](autoencoders.png \"Title\")"
   ]
  },
  {
   "cell_type": "markdown",
   "metadata": {},
   "source": [
    "![alt text](encoderpipeline.png \"Title\")"
   ]
  },
  {
   "cell_type": "code",
   "execution_count": 1,
   "metadata": {},
   "outputs": [],
   "source": [
    "from matplotlib import pyplot as plt\n",
    "import numpy as np\n",
    "from keras.datasets import cifar10\n",
    "from sklearn.metrics import accuracy_score,confusion_matrix,classification_report\n",
    "import pickle\n",
    "from keras.layers import Input,Dense,Conv2D,MaxPooling2D,UpSampling2D,BatchNormalization,Dropout\n",
    "from keras.models import Model,load_model\n",
    "from keras.callbacks import EarlyStopping,ModelCheckpoint\n",
    "from tensorflow.keras.optimizers import Adam"
   ]
  },
  {
   "cell_type": "code",
   "execution_count": 2,
   "metadata": {},
   "outputs": [],
   "source": [
    "classLabel = [\"airplane\",\"automobile\",\"bird\",\"cat\",\"deer\",\"dog\",\"frog\",\"horse\",\"ship\",\"truck\"]\n",
    "(X_train,y_train),(X_test,y_test) = cifar10.load_data()"
   ]
  },
  {
   "cell_type": "code",
   "execution_count": 3,
   "metadata": {},
   "outputs": [],
   "source": [
    "# since every value in image is ranging from 0 to 255, need to normalize the data to uniform range of 0-1 , diving by 255\n",
    "X_train = X_train.astype(\"float32\")\n",
    "X_test = X_test.astype(\"float32\")\n",
    "X_train = X_train/255\n",
    "X_test = X_test/255"
   ]
  },
  {
   "cell_type": "code",
   "execution_count": 4,
   "metadata": {},
   "outputs": [
    {
     "name": "stdout",
     "output_type": "stream",
     "text": [
      "Model: \"model\"\n",
      "_________________________________________________________________\n",
      " Layer (type)                Output Shape              Param #   \n",
      "=================================================================\n",
      " input_1 (InputLayer)        [(None, 32, 32, 3)]       0         \n",
      "                                                                 \n",
      " conv2d (Conv2D)             (None, 32, 32, 256)       7168      \n",
      "                                                                 \n",
      " max_pooling2d (MaxPooling2D  (None, 16, 16, 256)      0         \n",
      " )                                                               \n",
      "                                                                 \n",
      " conv2d_1 (Conv2D)           (None, 16, 16, 128)       295040    \n",
      "                                                                 \n",
      " encoded_layer (MaxPooling2D  (None, 8, 8, 128)        0         \n",
      " )                                                               \n",
      "                                                                 \n",
      " conv2d_2 (Conv2D)           (None, 8, 8, 128)         147584    \n",
      "                                                                 \n",
      " up_sampling2d (UpSampling2D  (None, 16, 16, 128)      0         \n",
      " )                                                               \n",
      "                                                                 \n",
      " conv2d_3 (Conv2D)           (None, 16, 16, 256)       295168    \n",
      "                                                                 \n",
      " up_sampling2d_1 (UpSampling  (None, 32, 32, 256)      0         \n",
      " 2D)                                                             \n",
      "                                                                 \n",
      " conv2d_4 (Conv2D)           (None, 32, 32, 3)         6915      \n",
      "                                                                 \n",
      "=================================================================\n",
      "Total params: 751,875\n",
      "Trainable params: 751,875\n",
      "Non-trainable params: 0\n",
      "_________________________________________________________________\n"
     ]
    }
   ],
   "source": [
    "\n",
    "checkpointer = ModelCheckpoint(\"save/autoencoder.hdf5\", verbose=0, save_best_only=True) # save best model\n",
    "earlyStop = EarlyStopping(monitor='val_loss', min_delta=1e-4, patience=5, verbose=1, mode='auto')\n",
    "# convulational layers\n",
    "# input = Input(shape=(32,32,3))   # 32,32,3\n",
    "\n",
    "# # encoder\n",
    "# x = Conv2D(64,(3,3),activation=\"relu\",padding=\"same\") (input)  \n",
    "# x = MaxPooling2D((2,2))(x)  # reduces dimension / downsampling  \n",
    "\n",
    "# x = Conv2D(32,(3,3),activation=\"relu\",padding=\"same\") (x)   \n",
    "# x = MaxPooling2D((2,2))(x)\n",
    "\n",
    "# x = Conv2D(16,(3,3),activation=\"relu\",padding=\"same\") (x)\n",
    "# # x = MaxPooling2D((2,2))(x)\n",
    "\n",
    "# x = Conv2D(8,(3,3),activation=\"relu\",padding=\"same\") (x)  # 8 x 8\n",
    "# encoded = MaxPooling2D((2,2),padding=\"same\",name=\"encoded_layer\")(x)  # bottleneck\n",
    "\n",
    "\n",
    "# # decoder\n",
    "# x = Conv2D(8,(3,3),activation=\"relu\",padding=\"same\") (encoded)\n",
    "# x = UpSampling2D((2,2))(x)\n",
    "\n",
    "# x = Conv2D(16,(3,3),activation=\"relu\",padding=\"same\") (x)\n",
    "# x = UpSampling2D((2,2))(x)\n",
    "\n",
    "# x = Conv2D(32,(3,3),activation=\"relu\",padding=\"same\") (x)\n",
    "# x = UpSampling2D((2,2))(x)\n",
    "\n",
    "# reconstruct = Conv2D(64,(3,3),activation=\"relu\",padding=\"same\") (x)\n",
    "\n",
    "# decoded = Conv2D(3,(3,3),padding=\"same\") (reconstruct)\n",
    "\n",
    "# autoencoder = Model(input,decoded)\n",
    "# autoencoder.compile(optimizer=\"adam\",loss=\"mse\",metrics=[\"accuracy\"])\n",
    "# autoencoder.summary()\n",
    "\n",
    "input_image = Input(shape=(32,32,3))\n",
    "\n",
    "# Encoder\n",
    "x = Conv2D(256, (3, 3), activation='relu', padding='same')(input_image)\n",
    "x = MaxPooling2D((2, 2), padding='same')(x)\n",
    "\n",
    "x = Conv2D(128, (3, 3), activation='relu', padding='same')(x)\n",
    "encoded = MaxPooling2D((2, 2), padding='same', name='encoded_layer')(x)\n",
    "\n",
    "# Decoder\n",
    "x = Conv2D(128, (3, 3), activation='relu', padding='same')(encoded)\n",
    "x = UpSampling2D((2, 2))(x)\n",
    "\n",
    "x = Conv2D(256, (3, 3), activation='relu', padding='same')(x)\n",
    "x = UpSampling2D((2, 2))(x)\n",
    "\n",
    "decoded = Conv2D(3, (3, 3), padding='same')(x)\n",
    "\n",
    "autoencoder = Model(input_image, decoded)\n",
    "autoencoder.compile(optimizer=Adam(learning_rate=0.001), loss='mse',metrics=[\"accuracy\"])\n",
    "autoencoder.summary()"
   ]
  },
  {
   "cell_type": "code",
   "execution_count": 5,
   "metadata": {},
   "outputs": [
    {
     "name": "stdout",
     "output_type": "stream",
     "text": [
      "Epoch 1/50\n",
      "157/157 [==============================] - 362s 2s/step - loss: 0.0457 - accuracy: 0.5315 - val_loss: 0.0086 - val_accuracy: 0.6613\n",
      "Epoch 2/50\n",
      "157/157 [==============================] - 290s 2s/step - loss: 0.0069 - accuracy: 0.7255 - val_loss: 0.0065 - val_accuracy: 0.7792\n",
      "Epoch 3/50\n",
      "157/157 [==============================] - 286s 2s/step - loss: 0.0052 - accuracy: 0.7714 - val_loss: 0.0047 - val_accuracy: 0.7618\n",
      "Epoch 4/50\n",
      "157/157 [==============================] - 288s 2s/step - loss: 0.0046 - accuracy: 0.7788 - val_loss: 0.0040 - val_accuracy: 0.7885\n",
      "Epoch 5/50\n",
      "157/157 [==============================] - 288s 2s/step - loss: 0.0039 - accuracy: 0.7960 - val_loss: 0.0036 - val_accuracy: 0.8036\n",
      "Epoch 6/50\n",
      "157/157 [==============================] - 269s 2s/step - loss: 0.0036 - accuracy: 0.7986 - val_loss: 0.0033 - val_accuracy: 0.8097\n",
      "Epoch 7/50\n",
      "157/157 [==============================] - 270s 2s/step - loss: 0.0034 - accuracy: 0.8027 - val_loss: 0.0031 - val_accuracy: 0.7876\n",
      "Epoch 8/50\n",
      "157/157 [==============================] - 270s 2s/step - loss: 0.0031 - accuracy: 0.8011 - val_loss: 0.0029 - val_accuracy: 0.7876\n",
      "Epoch 9/50\n",
      "157/157 [==============================] - 267s 2s/step - loss: 0.0029 - accuracy: 0.8040 - val_loss: 0.0027 - val_accuracy: 0.7840\n",
      "Epoch 10/50\n",
      "157/157 [==============================] - 271s 2s/step - loss: 0.0028 - accuracy: 0.8009 - val_loss: 0.0025 - val_accuracy: 0.8241\n",
      "Epoch 11/50\n",
      "157/157 [==============================] - 269s 2s/step - loss: 0.0025 - accuracy: 0.8142 - val_loss: 0.0024 - val_accuracy: 0.8270\n",
      "Epoch 12/50\n",
      "157/157 [==============================] - 269s 2s/step - loss: 0.0025 - accuracy: 0.8092 - val_loss: 0.0023 - val_accuracy: 0.8223\n",
      "Epoch 13/50\n",
      "157/157 [==============================] - 269s 2s/step - loss: 0.0024 - accuracy: 0.8123 - val_loss: 0.0022 - val_accuracy: 0.8327\n",
      "Epoch 14/50\n",
      "157/157 [==============================] - 269s 2s/step - loss: 0.0022 - accuracy: 0.8198 - val_loss: 0.0023 - val_accuracy: 0.8048\n",
      "Epoch 15/50\n",
      "157/157 [==============================] - 267s 2s/step - loss: 0.0022 - accuracy: 0.8162 - val_loss: 0.0024 - val_accuracy: 0.8144\n",
      "Epoch 16/50\n",
      "157/157 [==============================] - 268s 2s/step - loss: 0.0021 - accuracy: 0.8200 - val_loss: 0.0020 - val_accuracy: 0.8058\n",
      "Epoch 17/50\n",
      "157/157 [==============================] - 268s 2s/step - loss: 0.0021 - accuracy: 0.8179 - val_loss: 0.0021 - val_accuracy: 0.8380\n",
      "Epoch 18/50\n",
      "157/157 [==============================] - 266s 2s/step - loss: 0.0020 - accuracy: 0.8206 - val_loss: 0.0021 - val_accuracy: 0.8243\n",
      "Epoch 19/50\n",
      "157/157 [==============================] - 267s 2s/step - loss: 0.0020 - accuracy: 0.8229 - val_loss: 0.0020 - val_accuracy: 0.8238\n",
      "Epoch 20/50\n",
      "157/157 [==============================] - 267s 2s/step - loss: 0.0019 - accuracy: 0.8251 - val_loss: 0.0020 - val_accuracy: 0.8423\n",
      "Epoch 21/50\n",
      "157/157 [==============================] - 268s 2s/step - loss: 0.0019 - accuracy: 0.8202 - val_loss: 0.0019 - val_accuracy: 0.8104\n",
      "Epoch 22/50\n",
      "157/157 [==============================] - 268s 2s/step - loss: 0.0019 - accuracy: 0.8278 - val_loss: 0.0018 - val_accuracy: 0.8076\n",
      "Epoch 23/50\n",
      "157/157 [==============================] - 268s 2s/step - loss: 0.0018 - accuracy: 0.8259 - val_loss: 0.0018 - val_accuracy: 0.8320\n",
      "Epoch 24/50\n",
      "157/157 [==============================] - 268s 2s/step - loss: 0.0018 - accuracy: 0.8250 - val_loss: 0.0017 - val_accuracy: 0.8253\n",
      "Epoch 25/50\n",
      "157/157 [==============================] - 268s 2s/step - loss: 0.0018 - accuracy: 0.8269 - val_loss: 0.0017 - val_accuracy: 0.8284\n",
      "Epoch 26/50\n",
      "157/157 [==============================] - 269s 2s/step - loss: 0.0017 - accuracy: 0.8316 - val_loss: 0.0016 - val_accuracy: 0.8485\n",
      "Epoch 27/50\n",
      "157/157 [==============================] - 268s 2s/step - loss: 0.0017 - accuracy: 0.8291 - val_loss: 0.0018 - val_accuracy: 0.8369\n",
      "Epoch 28/50\n",
      "157/157 [==============================] - 267s 2s/step - loss: 0.0017 - accuracy: 0.8312 - val_loss: 0.0019 - val_accuracy: 0.8172\n",
      "Epoch 29/50\n",
      "157/157 [==============================] - 267s 2s/step - loss: 0.0016 - accuracy: 0.8322 - val_loss: 0.0016 - val_accuracy: 0.8461\n",
      "Epoch 29: early stopping\n"
     ]
    }
   ],
   "source": [
    "history = autoencoder.fit(X_train,X_train, validation_split=0.2, callbacks=[earlyStop,checkpointer],verbose=1,epochs=50, batch_size=256, shuffle=True)"
   ]
  },
  {
   "cell_type": "code",
   "execution_count": 6,
   "metadata": {},
   "outputs": [
    {
     "data": {
      "image/png": "[encoded data removed]",
      "text/plain": [
       "<Figure size 640x480 with 1 Axes>"
      ]
     },
     "metadata": {},
     "output_type": "display_data"
    }
   ],
   "source": [
    "# plot summarize history for loss\n",
    "plt.plot(history.history['loss'])\n",
    "plt.plot(history.history['val_loss'])\n",
    "plt.title('model loss')\n",
    "plt.ylabel('loss')  \n",
    "plt.xlabel('epoch')\n",
    "plt.legend(['train', 'val'])\n",
    "plt.show()"
   ]
  },
  {
   "cell_type": "code",
   "execution_count": 7,
   "metadata": {},
   "outputs": [
    {
     "name": "stdout",
     "output_type": "stream",
     "text": [
      "Model: \"model_1\"\n",
      "_________________________________________________________________\n",
      " Layer (type)                Output Shape              Param #   \n",
      "=================================================================\n",
      " input_1 (InputLayer)        [(None, 32, 32, 3)]       0         \n",
      "                                                                 \n",
      " conv2d (Conv2D)             (None, 32, 32, 256)       7168      \n",
      "                                                                 \n",
      " max_pooling2d (MaxPooling2D  (None, 16, 16, 256)      0         \n",
      " )                                                               \n",
      "                                                                 \n",
      " conv2d_1 (Conv2D)           (None, 16, 16, 128)       295040    \n",
      "                                                                 \n",
      " encoded_layer (MaxPooling2D  (None, 8, 8, 128)        0         \n",
      " )                                                               \n",
      "                                                                 \n",
      "=================================================================\n",
      "Total params: 302,208\n",
      "Trainable params: 302,208\n",
      "Non-trainable params: 0\n",
      "_________________________________________________________________\n"
     ]
    }
   ],
   "source": [
    "model = load_model(\"save/autoencoder.hdf5\")\n",
    "encoder = Model(inputs=model.input,outputs=model.get_layer('encoded_layer').output)\n",
    "\n",
    "encoder.summary()"
   ]
  },
  {
   "cell_type": "code",
   "execution_count": 8,
   "metadata": {},
   "outputs": [
    {
     "name": "stdout",
     "output_type": "stream",
     "text": [
      "1563/1563 [==============================] - 33s 20ms/step\n",
      "313/313 [==============================] - 6s 20ms/step\n"
     ]
    }
   ],
   "source": [
    "new_X_train = encoder.predict(X_train)\n",
    "new_X_test = encoder.predict(X_test)"
   ]
  },
  {
   "cell_type": "code",
   "execution_count": 9,
   "metadata": {},
   "outputs": [
    {
     "name": "stdout",
     "output_type": "stream",
     "text": [
      "(50000, 8, 8, 128) (10000, 8, 8, 128)\n"
     ]
    }
   ],
   "source": [
    "print(new_X_train.shape,new_X_test.shape)"
   ]
  },
  {
   "cell_type": "code",
   "execution_count": 10,
   "metadata": {},
   "outputs": [
    {
     "name": "stdout",
     "output_type": "stream",
     "text": [
      "(50000, 8192)\n",
      "(10000, 8192)\n"
     ]
    }
   ],
   "source": [
    "X_train1 = new_X_train.reshape((len(X_train),-1))\n",
    "print(X_train1.shape)\n",
    "X_test1 = new_X_test.reshape((len(X_test),-1))\n",
    "print(X_test1.shape)"
   ]
  },
  {
   "cell_type": "code",
   "execution_count": 11,
   "metadata": {},
   "outputs": [
    {
     "name": "stdout",
     "output_type": "stream",
     "text": [
      "(50000,)\n",
      "(10000,)\n"
     ]
    }
   ],
   "source": [
    "y_train1 = y_train.flatten()\n",
    "print(y_train1.shape)\n",
    "y_test1 = y_test.flatten()\n",
    "print(y_test1.shape)"
   ]
  },
  {
   "cell_type": "code",
   "execution_count": 12,
   "metadata": {},
   "outputs": [],
   "source": [
    "from sklearn.svm import SVC\n",
    "import time"
   ]
  },
  {
   "cell_type": "code",
   "execution_count": 13,
   "metadata": {},
   "outputs": [
    {
     "name": "stdout",
     "output_type": "stream",
     "text": [
      "Time Taken (SVM using Autoencoder) : 270.35214407444 minutes\n"
     ]
    }
   ],
   "source": [
    "start = time.time()\n",
    "\n",
    "svc_enc = SVC(kernel=\"rbf\")\n",
    "svc_enc.fit(X_train1,y_train1)\n",
    "\n",
    "end = time.time()\n",
    "print(\"Time Taken (SVM using Autoencoder) :\",(end-start)/60,\"minutes\")"
   ]
  },
  {
   "cell_type": "code",
   "execution_count": null,
   "metadata": {},
   "outputs": [],
   "source": [
    "with open(\"svc_en.pkl\",\"wb\") as f:\n",
    "    pickle.dump(svc_enc,f)"
   ]
  },
  {
   "cell_type": "code",
   "execution_count": 14,
   "metadata": {},
   "outputs": [
    {
     "name": "stdout",
     "output_type": "stream",
     "text": [
      "Accuracy Score (Support Vector Machines using Autoencoder) : 0.6229\n",
      "Confusion matrix (Support Vector Machines using Autoencoder)\n",
      " [[664  38  89  25  29  16  11  24  76  46]\n",
      " [ 27 739  14  23   7   6   9   5  56 123]\n",
      " [ 58  13 472  92 105  83  47  31  21  12]\n",
      " [ 27  14  84 478  80 204  70  77  16  22]\n",
      " [ 11   5 117  70 537  74  62  79   7   8]\n",
      " [ 13   5  65 142  37 488  21  63  11  10]\n",
      " [ 19  14  81  94 110  45 745  29   8  19]\n",
      " [  5   9  42  34  72  59  12 649   7  22]\n",
      " [129  40  21  14  19  14   8   5 756  37]\n",
      " [ 47 123  15  28   4  11  15  38  42 701]]\n",
      "Classification Report (Support Vector Machines using Autoencoder)\n",
      "               precision    recall  f1-score   support\n",
      "\n",
      "           0       0.66      0.65      0.66      1018\n",
      "           1       0.74      0.73      0.74      1009\n",
      "           2       0.47      0.51      0.49       934\n",
      "           3       0.48      0.45      0.46      1072\n",
      "           4       0.54      0.55      0.55       970\n",
      "           5       0.49      0.57      0.53       855\n",
      "           6       0.74      0.64      0.69      1164\n",
      "           7       0.65      0.71      0.68       911\n",
      "           8       0.76      0.72      0.74      1043\n",
      "           9       0.70      0.68      0.69      1024\n",
      "\n",
      "    accuracy                           0.62     10000\n",
      "   macro avg       0.62      0.62      0.62     10000\n",
      "weighted avg       0.63      0.62      0.62     10000\n",
      "\n"
     ]
    }
   ],
   "source": [
    "svc_pred = svc_enc.predict(X_test1)\n",
    "acc20 = accuracy_score(svc_pred,y_test1)\n",
    "print(\"Accuracy Score (Support Vector Machines using Autoencoder) :\",accuracy_score(svc_pred,y_test1))\n",
    "print(\"Confusion matrix (Support Vector Machines using Autoencoder)\\n\",confusion_matrix(svc_pred,y_test1))\n",
    "print(\"Classification Report (Support Vector Machines using Autoencoder)\\n\",classification_report(svc_pred,y_test1))"
   ]
  }
 ],
 "metadata": {
  "kernelspec": {
   "display_name": "Python 3.9.7 ('base')",
   "language": "python",
   "name": "python3"
  },
  "language_info": {
   "codemirror_mode": {
    "name": "ipython",
    "version": 3
   },
   "file_extension": ".py",
   "mimetype": "text/x-python",
   "name": "python",
   "nbconvert_exporter": "python",
   "pygments_lexer": "ipython3",
   "version": "3.9.7"
  },
  "orig_nbformat": 4,
  "vscode": {
   "interpreter": {
    "hash": "245b9fdd41826652eab311a2b791c6ecb0e15947c319e7e2516aa9c02c583d40"
   }
  }
 },
 "nbformat": 4,
 "nbformat_minor": 2
}
